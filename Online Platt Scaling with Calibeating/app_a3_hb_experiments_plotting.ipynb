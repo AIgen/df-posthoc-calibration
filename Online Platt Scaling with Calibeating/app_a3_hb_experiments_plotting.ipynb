{
 "cells": [
  {
   "cell_type": "code",
   "execution_count": null,
   "metadata": {
    "ExecuteTime": {
     "end_time": "2020-03-26T18:55:31.260630Z",
     "start_time": "2020-03-26T18:55:29.661685Z"
    }
   },
   "outputs": [],
   "source": [
    "import numpy as np\n",
    "import matplotlib.pyplot as plt\n",
    "import matplotlib as mpl\n",
    "import seaborn as sns \n",
    "\n",
    "%load_ext autoreload\n",
    "%matplotlib inline\n",
    "%autoreload 2"
   ]
  },
  {
   "cell_type": "code",
   "execution_count": null,
   "metadata": {},
   "outputs": [],
   "source": [
    "import warnings \n",
    "warnings.filterwarnings(\"default\")"
   ]
  },
  {
   "cell_type": "markdown",
   "metadata": {},
   "source": [
    "# Set plotting aesthetics"
   ]
  },
  {
   "cell_type": "code",
   "execution_count": null,
   "metadata": {},
   "outputs": [],
   "source": [
    "mpl.rcParams.keys();"
   ]
  },
  {
   "cell_type": "code",
   "execution_count": null,
   "metadata": {
    "ExecuteTime": {
     "end_time": "2020-03-20T19:20:24.246355Z",
     "start_time": "2020-03-20T19:20:24.241544Z"
    }
   },
   "outputs": [],
   "source": [
    "mpl.rcParams.update({'font.size': 15})\n",
    "mpl.rcParams.update({\"axes.grid\" : True, \"grid.linestyle\": '--', \n",
    "                     \"grid.alpha\": 0.8, \"grid.color\": \"black\"})\n",
    "mpl.rcParams.update({\"lines.linewidth\" : 3})\n",
    "mpl.style.use('seaborn-colorblind')"
   ]
  },
  {
   "cell_type": "code",
   "execution_count": null,
   "metadata": {},
   "outputs": [],
   "source": [
    "def errorbar(M, x, label, ax, marker, color, ls='-'):\n",
    "    n_runs = M.shape[1]\n",
    "    M_means = np.mean(M, axis=1)\n",
    "    M_std_normalized = np.std(M, axis=1)/np.sqrt(n_runs)\n",
    "    M_upper = M_std_normalized\n",
    "    M_lower = M_std_normalized\n",
    "    if(M.shape[0] > 15):\n",
    "        plot_every = 3\n",
    "    else: \n",
    "        plot_every = 1\n",
    "        \n",
    "    ax.errorbar(x[::plot_every], M_means[::plot_every], np.vstack((M_lower[::plot_every], M_upper[::plot_every])), label=label, marker=marker, elinewidth=2, ms=8, ls=ls, color=color)\n",
    "    if(M.shape[0] > 20):\n",
    "        ax.set_xticks([5000, 15000, 25000])"
   ]
  },
  {
   "cell_type": "code",
   "execution_count": null,
   "metadata": {
    "tags": []
   },
   "outputs": [],
   "source": [
    "def plot(results, ax, ece=True):\n",
    "    run = 0\n",
    "    N_calib_points = results[run][12]\n",
    "    n_runs = results.shape[0]\n",
    "    ECE_1 = np.zeros((N_calib_points.size, n_runs))\n",
    "    ECE_2 = np.zeros((N_calib_points.size, n_runs))\n",
    "    ECE_3 = np.zeros((N_calib_points.size, n_runs))\n",
    "    ECE_4 = np.zeros((N_calib_points.size, n_runs))\n",
    "    ECE_5 = np.zeros((N_calib_points.size, n_runs))\n",
    "    ECE_6 = np.zeros((N_calib_points.size, n_runs))\n",
    "    \n",
    "    SHP_1 = np.zeros((N_calib_points.size, n_runs))\n",
    "    SHP_2 = np.zeros((N_calib_points.size, n_runs))\n",
    "    SHP_3 = np.zeros((N_calib_points.size, n_runs))\n",
    "    SHP_4 = np.zeros((N_calib_points.size, n_runs))\n",
    "    SHP_5 = np.zeros((N_calib_points.size, n_runs))\n",
    "    SHP_6 = np.zeros((N_calib_points.size, n_runs))\n",
    "\n",
    "    for run in range(n_runs):\n",
    "        ECE_1[:,run] = results[run][0]\n",
    "        ECE_2[:,run] = results[run][1]\n",
    "        ECE_3[:,run] = results[run][2]\n",
    "        ECE_4[:,run] = results[run][3]\n",
    "        ECE_5[:,run] = results[run][4]\n",
    "        ECE_6[:,run] = results[run][5]\n",
    "\n",
    "        SHP_1[:,run] = results[run][6]\n",
    "        SHP_2[:,run] = results[run][7]\n",
    "        SHP_3[:,run] = results[run][8]\n",
    "        SHP_4[:,run] = results[run][9]\n",
    "        SHP_5[:,run] = results[run][10]\n",
    "        SHP_6[:,run] = results[run][11]\n",
    "\n",
    "    colors = mpl.rcParams['axes.prop_cycle'].by_key()['color']\n",
    "    if(ece):\n",
    "        errorbar(ECE_3, N_calib_points, \"Windowed histogram binning (WHB)\", ax, marker='o', ls='dotted', color=colors[0])\n",
    "        errorbar(ECE_6, N_calib_points, \"WHB + tracking (TWHB)\", ax, marker='o', ls='solid', color=colors[0])\n",
    "        errorbar(ECE_1, N_calib_points, \"Online Platt scaling (OPS)\", ax, marker='>', ls='dotted', color=colors[3])\n",
    "        errorbar(ECE_4, N_calib_points, \"OPS + tracking (TOPS)\", ax, marker='>', ls='solid', color=colors[3])\n",
    "        errorbar(ECE_2, N_calib_points, \"Online beta scaling (OBS)\", ax, marker='<', ls='dotted', color=colors[4])\n",
    "        errorbar(ECE_5, N_calib_points, \"OBS + tracking (TOBS)\", ax, marker='<', ls='solid', color=colors[4])\n",
    "        ax.set_ylabel(r'$\\mathrm{\\mathbb{E}}[$Calibration-error (CE) at $t]$')\n",
    "        \n",
    "    else: \n",
    "        errorbar(SHP_3, N_calib_points, \"Windowed histogram binning (WHB)\", ax, marker='o', ls='dotted', color=colors[0])\n",
    "        errorbar(SHP_6, N_calib_points, \"WHB + tracking (TWHB)\", ax, marker='o', ls='solid', color=colors[0])\n",
    "        errorbar(SHP_1, N_calib_points, \"Online Platt scaling (OPS)\", ax, marker='>', ls='dotted', color=colors[3])\n",
    "        errorbar(SHP_4, N_calib_points, \"OPS + tracking (TOPS)\", ax, marker='>', ls='solid', color=colors[3])\n",
    "        errorbar(SHP_2, N_calib_points, \"Online beta scaling (OBS)\", ax, marker='<', ls='dotted', color=colors[4])\n",
    "        errorbar(SHP_5, N_calib_points, \"OBS + tracking (TOBS)\", ax, marker='<', ls='solid', color=colors[4])\n",
    "        ax.set_ylabel(r'$\\mathrm{\\mathbb{E}}[$Sharpness (SHP) at $t]$')\n",
    "\n",
    "    ax.legend(loc='upper center', bbox_to_anchor=(-0.1, 1.35),\n",
    "                     ncol=3, fancybox=True, shadow=True)\n",
    "    ax.set_xlabel(r'Time t $\\rightarrow$')"
   ]
  },
  {
   "cell_type": "code",
   "execution_count": null,
   "metadata": {},
   "outputs": [],
   "source": [
    "results = np.load(\"results_hb/real_data/bank_0.npy\")\n",
    "fig, ax = plt.subplots(figsize=(5,4))\n",
    "plot(results, ax)"
   ]
  },
  {
   "cell_type": "code",
   "execution_count": null,
   "metadata": {},
   "outputs": [],
   "source": [
    "dataset_name = {'bank': \"Bank marketing response\",\n",
    "               'credit': \"Credit default\", \n",
    "               'churn': \"Customer churn modeling\", \n",
    "               'fetal': \"Fetal Health\"}\n",
    "\n",
    "def create_final_plots(dataset, design, ece=True):\n",
    "    result_file = \"results_hb/real_data/{}_{}.npy\".format(dataset, design)\n",
    "    results = np.load(result_file)\n",
    "    fig, ax = plt.subplots(figsize=(5,4))\n",
    "    plot(results, ax, ece)\n",
    "    if(ece):\n",
    "        fig_file = \"results_hb/real_data_figures/{}_{}.pdf\".format(dataset, design)\n",
    "    else:\n",
    "        fig_file = \"results_hb/real_data_figures/{}_{}_sharpness.pdf\".format(dataset, design)\n",
    "    plt.title(dataset_name[dataset])\n",
    "    plt.savefig(fig_file, bbox_inches=\"tight\")"
   ]
  },
  {
   "cell_type": "code",
   "execution_count": null,
   "metadata": {},
   "outputs": [],
   "source": [
    "for dataset in dataset_name.keys():\n",
    "    create_final_plots(dataset, 1)"
   ]
  }
 ],
 "metadata": {
  "kernelspec": {
   "display_name": "Python 3 (ipykernel)",
   "language": "python",
   "name": "python3"
  },
  "language_info": {
   "codemirror_mode": {
    "name": "ipython",
    "version": 3
   },
   "file_extension": ".py",
   "mimetype": "text/x-python",
   "name": "python",
   "nbconvert_exporter": "python",
   "pygments_lexer": "ipython3",
   "version": "3.9.13"
  },
  "toc": {
   "base_numbering": 1,
   "nav_menu": {},
   "number_sections": true,
   "sideBar": true,
   "skip_h1_title": false,
   "title_cell": "Table of Contents",
   "title_sidebar": "Contents",
   "toc_cell": false,
   "toc_position": {},
   "toc_section_display": true,
   "toc_window_display": false
  }
 },
 "nbformat": 4,
 "nbformat_minor": 4
}
