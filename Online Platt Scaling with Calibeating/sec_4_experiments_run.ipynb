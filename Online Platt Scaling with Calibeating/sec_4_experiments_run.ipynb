{
 "cells": [
  {
   "cell_type": "code",
   "execution_count": null,
   "metadata": {
    "ExecuteTime": {
     "end_time": "2020-03-26T18:55:31.260630Z",
     "start_time": "2020-03-26T18:55:29.661685Z"
    }
   },
   "outputs": [],
   "source": [
    "import numpy as np\n",
    "import warnings \n",
    "warnings.filterwarnings(\"default\")\n",
    "warnings.simplefilter(\"ignore\", ResourceWarning)"
   ]
  },
  {
   "cell_type": "code",
   "execution_count": null,
   "metadata": {},
   "outputs": [],
   "source": [
    "from sec_4_experiments_core import run_exp\n",
    "import multiprocessing as mp\n",
    "from joblib import Parallel, delayed\n",
    "\n",
    "n_cores = 100\n",
    "n_runs = 100"
   ]
  },
  {
   "cell_type": "code",
   "execution_count": null,
   "metadata": {},
   "outputs": [],
   "source": [
    "dataset = 'churn'\n",
    "design = 0\n",
    "with mp.Pool(processes = n_cores) as p:\n",
    "    results = Parallel(n_jobs=n_cores)(delayed(run_exp)(dataset, run, design) for run in range(n_runs))\n",
    "np.save(\"results/real_data/{}_{}\".format(dataset, design), results)"
   ]
  },
  {
   "cell_type": "code",
   "execution_count": null,
   "metadata": {},
   "outputs": [],
   "source": [
    "dataset = 'churn'\n",
    "design = 1\n",
    "with mp.Pool(processes = n_cores) as p:\n",
    "    results = Parallel(n_jobs=n_cores)(delayed(run_exp)(dataset, run, design) for run in range(n_runs))\n",
    "np.save(\"results/real_data/{}_{}\".format(dataset, design), results)"
   ]
  },
  {
   "cell_type": "code",
   "execution_count": null,
   "metadata": {},
   "outputs": [],
   "source": [
    "dataset = 'credit'\n",
    "design = 0\n",
    "with mp.Pool(processes = n_cores) as p:\n",
    "    results = Parallel(n_jobs=n_cores)(delayed(run_exp)(dataset, run, design) for run in range(n_runs))\n",
    "np.save(\"results/real_data/{}_{}\".format(dataset, design), results)"
   ]
  },
  {
   "cell_type": "code",
   "execution_count": null,
   "metadata": {},
   "outputs": [],
   "source": [
    "dataset = 'credit'\n",
    "design = 1\n",
    "with mp.Pool(processes = n_cores) as p:\n",
    "    results = Parallel(n_jobs=n_cores)(delayed(run_exp)(dataset, run, design) for run in range(n_runs))\n",
    "np.save(\"results/real_data/{}_{}\".format(dataset, design), results)"
   ]
  },
  {
   "cell_type": "code",
   "execution_count": null,
   "metadata": {},
   "outputs": [],
   "source": [
    "dataset = 'bank'\n",
    "design = 0\n",
    "with mp.Pool(processes = n_cores) as p:\n",
    "    results = Parallel(n_jobs=n_cores)(delayed(run_exp)(dataset, run, design) for run in range(n_runs))\n",
    "np.save(\"results/real_data/{}_{}\".format(dataset, design), results)"
   ]
  },
  {
   "cell_type": "code",
   "execution_count": null,
   "metadata": {},
   "outputs": [],
   "source": [
    "dataset = 'bank'\n",
    "design = 1\n",
    "with mp.Pool(processes = n_cores) as p:\n",
    "    results = Parallel(n_jobs=n_cores)(delayed(run_exp)(dataset, run, design) for run in range(n_runs))\n",
    "np.save(\"results/real_data/{}_{}\".format(dataset, design), results)"
   ]
  },
  {
   "cell_type": "code",
   "execution_count": null,
   "metadata": {},
   "outputs": [],
   "source": [
    "dataset = 'fetal'\n",
    "design = 0\n",
    "with mp.Pool(processes = n_cores) as p:\n",
    "    results = Parallel(n_jobs=n_cores)(delayed(run_exp)(dataset, run, design) for run in range(n_runs))\n",
    "np.save(\"results/real_data/{}_{}\".format(dataset, design), results)"
   ]
  },
  {
   "cell_type": "code",
   "execution_count": null,
   "metadata": {},
   "outputs": [],
   "source": [
    "dataset = 'fetal'\n",
    "design = 1\n",
    "with mp.Pool(processes = n_cores) as p:\n",
    "    results = Parallel(n_jobs=n_cores)(delayed(run_exp)(dataset, run, design) for run in range(n_runs))\n",
    "np.save(\"results/real_data/{}_{}\".format(dataset, design), results)"
   ]
  },
  {
   "cell_type": "code",
   "execution_count": null,
   "metadata": {},
   "outputs": [],
   "source": [
    "dataset = 'covariate_shift'\n",
    "design_params = np.arange(0, 240, 60)\n",
    "for design in design_params:\n",
    "    print(design)\n",
    "    with mp.Pool(processes = n_cores) as p:\n",
    "        results = Parallel(n_jobs=n_cores)(delayed(run_exp)(dataset, run, design) for run in range(n_runs))\n",
    "    np.save(\"results/synthetic_data/{}_{}\".format(dataset, design), results)"
   ]
  },
  {
   "cell_type": "code",
   "execution_count": null,
   "metadata": {},
   "outputs": [],
   "source": [
    "dataset = 'label_shift'\n",
    "design_params = [0.5, 0.6, 0.7, 0.9]\n",
    "for design in design_params:\n",
    "    print(design)\n",
    "    with mp.Pool(processes = n_cores) as p:\n",
    "        results = Parallel(n_jobs=n_cores)(delayed(run_exp)(dataset, run, design) for run in range(n_runs))\n",
    "    np.save(\"results/synthetic_data/{}_{}\".format(dataset, design), results)"
   ]
  },
  {
   "cell_type": "code",
   "execution_count": null,
   "metadata": {},
   "outputs": [],
   "source": [
    "dataset = 'regression_shift'\n",
    "design_params = np.arange(0, 100, 10)\n",
    "for design in design_params:\n",
    "    print(design)\n",
    "    with mp.Pool(processes = n_cores) as p:\n",
    "        results = Parallel(n_jobs=n_cores)(delayed(run_exp)(dataset, run, design) for run in range(n_runs))\n",
    "    np.save(\"results/synthetic_data/{}_{}\".format(dataset, design), results)"
   ]
  }
 ],
 "metadata": {
  "kernelspec": {
   "display_name": "Python 3 (ipykernel)",
   "language": "python",
   "name": "python3"
  },
  "language_info": {
   "codemirror_mode": {
    "name": "ipython",
    "version": 3
   },
   "file_extension": ".py",
   "mimetype": "text/x-python",
   "name": "python",
   "nbconvert_exporter": "python",
   "pygments_lexer": "ipython3",
   "version": "3.9.13"
  },
  "toc": {
   "base_numbering": 1,
   "nav_menu": {},
   "number_sections": true,
   "sideBar": true,
   "skip_h1_title": false,
   "title_cell": "Table of Contents",
   "title_sidebar": "Contents",
   "toc_cell": false,
   "toc_position": {},
   "toc_section_display": true,
   "toc_window_display": false
  }
 },
 "nbformat": 4,
 "nbformat_minor": 4
}
